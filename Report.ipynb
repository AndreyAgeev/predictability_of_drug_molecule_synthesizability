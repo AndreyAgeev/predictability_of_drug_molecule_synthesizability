{
 "cells": [
  {
   "cell_type": "markdown",
   "metadata": {},
   "source": [
    "# \"Предсказание синтезируемости молекул лекарств с помощью глубокого обучения\", Агеев Андрей"
   ]
  },
  {
   "cell_type": "markdown",
   "metadata": {},
   "source": [
    "Задание:\n",
    "\n",
    "Воспользуйтесь вариационным автокодировщиком для генерации молекул - изучите репозиторий https://github.com/aspuru-guzik-group/chemical_vae.\n",
    "\n",
    "Закодируйте, декодируйте и предскажите свойства следующих молекул:\n",
    "\n",
    "1. Cc1ccc(S2(=O)=NC(=O)Nc3ccccc32)cc1\n",
    "\n",
    "2. CN(Cc1ccc2c(c1)C(=O)CC2)C(=O)OC(C)(C)C\n",
    "\n",
    "3. COC(=O)C1CCC(Oc2ccc(NC(=O)C(=O)NN)cn2)CC1"
   ]
  },
  {
   "cell_type": "markdown",
   "metadata": {},
   "source": [
    "Добавляем необходимые пакеты"
   ]
  },
  {
   "cell_type": "code",
   "execution_count": 1,
   "metadata": {},
   "outputs": [
    {
     "name": "stderr",
     "output_type": "stream",
     "text": [
      "RDKit WARNING: [16:07:47] Enabling RDKit 2019.09.3 jupyter extensions\n",
      "Using TensorFlow backend.\n"
     ]
    }
   ],
   "source": [
    "import warnings\n",
    "warnings.filterwarnings('ignore')\n",
    "# tensorflow backend\n",
    "from os import environ\n",
    "environ['KERAS_BACKEND'] = 'tensorflow'\n",
    "# vae stuff\n",
    "from chemvae.vae_utils import VAEUtils\n",
    "from chemvae import mol_utils as mu\n",
    "# import scientific py\n",
    "import numpy as np\n",
    "import pandas as pd\n",
    "# rdkit stuff\n",
    "from rdkit.Chem import AllChem as Chem\n",
    "from rdkit.Chem import PandasTools\n",
    "# plotting stuff\n",
    "import matplotlib.pyplot as plt\n",
    "import matplotlib as mpl\n",
    "from IPython.display import SVG, display\n",
    "%config InlineBackend.figure_format = 'retina'\n",
    "%matplotlib inline"
   ]
  },
  {
   "cell_type": "markdown",
   "metadata": {},
   "source": [
    "Загружаем модель"
   ]
  },
  {
   "cell_type": "code",
   "execution_count": 2,
   "metadata": {},
   "outputs": [
    {
     "name": "stdout",
     "output_type": "stream",
     "text": [
      "Using standarized functions? True\n",
      "Standarization: estimating mu and std values ...done!\n"
     ]
    }
   ],
   "source": [
    "vae = VAEUtils(directory='chemical_vae-master/models/zinc_properties')"
   ]
  },
  {
   "cell_type": "markdown",
   "metadata": {},
   "source": [
    "## Decode/Encode \n",
    "\n",
    "Основная схема выглядит так:\n",
    "\n",
    "smiles <i class=\"fa fa-arrow-right\" aria-hidden=\"true\"></i> x <i class=\"fa fa-arrow-right\" aria-hidden=\"true\"></i> z <i class=\"fa fa-arrow-right\" aria-hidden=\"true\"></i> x_r <i class=\"fa fa-arrow-right\" aria-hidden=\"true\"></i> smiles_r"
   ]
  },
  {
   "cell_type": "code",
   "execution_count": 3,
   "metadata": {},
   "outputs": [
    {
     "name": "stdout",
     "output_type": "stream",
     "text": [
      "Input                : Cc1ccc(S2(=O)=NC(=O)Nc3ccccc32)cc1\n",
      "Reconstruction       : C(cccc(C[n+]2=NC(=O)Nc3ccccc32)cc1\n",
      "Z representation     : (1, 196) with norm 10.280\n"
     ]
    }
   ],
   "source": [
    "smiles_1 = mu.canon_smiles('Cc1ccc(S2(=O)=NC(=O)Nc3ccccc32)cc1')\n",
    "\n",
    "X_1 = vae.smiles_to_hot(smiles_1,canonize_smiles=True)\n",
    "z_1 = vae.encode(X_1)\n",
    "X_r_1= vae.decode(z_1)\n",
    "\n",
    "print('{:20s} : {}'.format('Input',smiles_1))\n",
    "print('{:20s} : {}'.format('Reconstruction',vae.hot_to_smiles(X_r_1,strip=True)[0]))\n",
    "\n",
    "print('{:20s} : {} with norm {:.3f}'.format('Z representation',z_1.shape, np.linalg.norm(z_1)))"
   ]
  },
  {
   "cell_type": "code",
   "execution_count": 4,
   "metadata": {},
   "outputs": [
    {
     "name": "stdout",
     "output_type": "stream",
     "text": [
      "Input                : CN(Cc1ccc2c(c1)C(=O)CC2)C(=O)OC(C)(C)C\n",
      "Reconstruction       : CN(C)cccc2c(c1)C(=O)CC2)C(=O)OC(C)(C)C\n",
      "Z representation     : (1, 196) with norm 13.437\n"
     ]
    }
   ],
   "source": [
    "smiles_2 = mu.canon_smiles('CN(Cc1ccc2c(c1)C(=O)CC2)C(=O)OC(C)(C)C')\n",
    "\n",
    "X_2 = vae.smiles_to_hot(smiles_2,canonize_smiles=True)\n",
    "z_2 = vae.encode(X_2)\n",
    "X_r_2= vae.decode(z_2)\n",
    "\n",
    "print('{:20s} : {}'.format('Input',smiles_2))\n",
    "print('{:20s} : {}'.format('Reconstruction',vae.hot_to_smiles(X_r_2,strip=True)[0]))\n",
    "\n",
    "print('{:20s} : {} with norm {:.3f}'.format('Z representation',z_2.shape, np.linalg.norm(z_2)))"
   ]
  },
  {
   "cell_type": "code",
   "execution_count": 5,
   "metadata": {},
   "outputs": [
    {
     "name": "stdout",
     "output_type": "stream",
     "text": [
      "Input                : COC(=O)C1CCC(Oc2ccc(NC(=O)C(=O)NN)cn2)CC1\n",
      "Reconstruction       : COC(=O)C1CCC(Oc2ccc(NC(=O)C(=O)N=Ocn2)CC1\n",
      "Z representation     : (1, 196) with norm 13.116\n"
     ]
    }
   ],
   "source": [
    "smiles_3 = mu.canon_smiles('COC(=O)C1CCC(Oc2ccc(NC(=O)C(=O)NN)cn2)CC1')\n",
    "\n",
    "X_3 = vae.smiles_to_hot(smiles_3,canonize_smiles=True)\n",
    "z_3 = vae.encode(X_3)\n",
    "X_r_3= vae.decode(z_3)\n",
    "\n",
    "print('{:20s} : {}'.format('Input',smiles_3))\n",
    "\n",
    "\n",
    "print('{:20s} : {}'.format('Reconstruction',vae.hot_to_smiles(X_r_3,strip=True)[0]))\n",
    "\n",
    "print('{:20s} : {} with norm {:.3f}'.format('Z representation',z_3.shape, np.linalg.norm(z_3)))"
   ]
  },
  {
   "cell_type": "markdown",
   "metadata": {},
   "source": [
    "## property preditor\n"
   ]
  },
  {
   "cell_type": "markdown",
   "metadata": {},
   "source": [
    "Предскажем следующие свойства: \n",
    "\n",
    "Water−octanol partition coefficient (logP);\n",
    "\n",
    "synthetic accessibility score (SAS);\n",
    "\n",
    "Quantitative Estimation of Drug-likeness (QED)"
   ]
  },
  {
   "cell_type": "code",
   "execution_count": 6,
   "metadata": {},
   "outputs": [
    {
     "name": "stdout",
     "output_type": "stream",
     "text": [
      "Properties (qed,SAS,logP):\n",
      "[0.72313255 2.4103725  3.1467233 ]\n"
     ]
    }
   ],
   "source": [
    "print('Properties (qed,SAS,logP):')\n",
    "y_1 = vae.predict_prop_Z(z_1)[0]\n",
    "print(y_1)"
   ]
  },
  {
   "cell_type": "code",
   "execution_count": 7,
   "metadata": {},
   "outputs": [
    {
     "name": "stdout",
     "output_type": "stream",
     "text": [
      "Properties (qed,SAS,logP):\n",
      "[0.81158835 2.2198553  2.4382758 ]\n"
     ]
    }
   ],
   "source": [
    "print('Properties (qed,SAS,logP):')\n",
    "y_2 = vae.predict_prop_Z(z_2)[0]\n",
    "print(y_2)"
   ]
  },
  {
   "cell_type": "code",
   "execution_count": 8,
   "metadata": {},
   "outputs": [
    {
     "name": "stdout",
     "output_type": "stream",
     "text": [
      "Properties (qed,SAS,logP):\n",
      "[0.75315255 2.4784982  0.05034626]\n"
     ]
    }
   ],
   "source": [
    "print('Properties (qed,SAS,logP):')\n",
    "y_3 = vae.predict_prop_Z(z_3)[0]\n",
    "print(y_3)"
   ]
  }
 ],
 "metadata": {
  "kernelspec": {
   "display_name": "Python 3",
   "language": "python",
   "name": "python3"
  },
  "language_info": {
   "codemirror_mode": {
    "name": "ipython",
    "version": 3
   },
   "file_extension": ".py",
   "mimetype": "text/x-python",
   "name": "python",
   "nbconvert_exporter": "python",
   "pygments_lexer": "ipython3",
   "version": "3.6.10"
  }
 },
 "nbformat": 4,
 "nbformat_minor": 4
}
